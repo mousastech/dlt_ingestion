{
 "cells": [
  {
   "cell_type": "markdown",
   "metadata": {
    "application/vnd.databricks.v1+cell": {
     "cellMetadata": {},
     "inputWidgets": {},
     "nuid": "d58a244e-f5ee-4f61-a372-8091ae0e1ff7",
     "showTitle": false,
     "tableResultSettingsMap": {},
     "title": ""
    }
   },
   "source": [
    "<img src=\"https://raw.githubusercontent.com/Databricks-BR/dw/main/images/header_dw_notebook.png\">"
   ]
  },
  {
   "cell_type": "code",
   "execution_count": 0,
   "metadata": {
    "application/vnd.databricks.v1+cell": {
     "cellMetadata": {
      "byteLimit": 2048000,
      "rowLimit": 10000
     },
     "inputWidgets": {},
     "nuid": "e4afbe54-1a79-49b7-8e04-7e0ce18cc568",
     "showTitle": false,
     "tableResultSettingsMap": {},
     "title": ""
    }
   },
   "outputs": [],
   "source": [
    "CREATE CATALOG ecommerce;"
   ]
  },
  {
   "cell_type": "code",
   "execution_count": 0,
   "metadata": {
    "application/vnd.databricks.v1+cell": {
     "cellMetadata": {
      "byteLimit": 2048000,
      "rowLimit": 10000
     },
     "inputWidgets": {},
     "nuid": "8ea14db1-f2fe-401d-8c7c-288751075b5b",
     "showTitle": false,
     "tableResultSettingsMap": {},
     "title": ""
    }
   },
   "outputs": [],
   "source": [
    "USE catalog ecommerce;\n",
    "\n",
    "CREATE SCHEMA bronze;\n",
    "CREATE SCHEMA silver;\n",
    "CREATE SCHEMA gold;"
   ]
  },
  {
   "cell_type": "markdown",
   "metadata": {
    "application/vnd.databricks.v1+cell": {
     "cellMetadata": {},
     "inputWidgets": {},
     "nuid": "52de2931-53bc-4a40-a634-95518b7680f2",
     "showTitle": false,
     "tableResultSettingsMap": {},
     "title": ""
    }
   },
   "source": [
    "## Creation of Securable objtects through the interface\n",
    "\n",
    "- External Location through Unity Catalog External Data\n",
    "- Create a new volume -> External `location`\n",
    "\n",
    "<br><b>Create an External Location:</b><br><br>\n",
    "<img src=\"https://github.com/mousastech/dlt_ingestion/blob/e96c8bc75e87f992d806f650b08c21c72412b818/files/3.Create_External_data.gif?raw=true\">\n",
    "\n",
    "<br><b>Create a new volume:</b><br><br>\n",
    "\n",
    "<img src=\"https://github.com/mousastech/dlt_ingestion/blob/f834853775a4199cdabaa09c4bdedfe0ed7edf1b/files/2.CreateVolume.png?raw=true\">\n"
   ]
  }
 ],
 "metadata": {
  "application/vnd.databricks.v1+notebook": {
   "dashboards": [],
   "environmentMetadata": {
    "base_environment": "",
    "client": "1"
   },
   "language": "sql",
   "notebookMetadata": {
    "pythonIndentUnit": 2
   },
   "notebookName": "setup",
   "widgets": {}
  },
  "language_info": {
   "name": "sql"
  }
 },
 "nbformat": 4,
 "nbformat_minor": 0
}
