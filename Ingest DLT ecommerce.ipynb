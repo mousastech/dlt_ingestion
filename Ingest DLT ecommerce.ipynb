{
 "cells": [
  {
   "cell_type": "markdown",
   "metadata": {
    "application/vnd.databricks.v1+cell": {
     "cellMetadata": {},
     "inputWidgets": {},
     "nuid": "676761c3-b4ac-4701-8011-9a0885135258",
     "showTitle": false,
     "tableResultSettingsMap": {},
     "title": ""
    }
   },
   "source": [
    "<img src=\"https://github.com/mousastech/dlt_ingestion/blob/1d1acf88ef16711f398e202ea703b6c3336765e9/files/DLT%20Ingest.png?raw=true\">"
   ]
  },
  {
   "cell_type": "code",
   "execution_count": 0,
   "metadata": {
    "application/vnd.databricks.v1+cell": {
     "cellMetadata": {
      "byteLimit": 2048000,
      "rowLimit": 10000
     },
     "inputWidgets": {},
     "nuid": "b994d304-a83f-47e4-a54a-17c90de90fe6",
     "showTitle": true,
     "tableResultSettingsMap": {},
     "title": "Customers Bronze"
    }
   },
   "outputs": [],
   "source": [
    "import dlt\n",
    "from pyspark.sql.functions import current_timestamp\n",
    "\n",
    "@dlt.table(\n",
    "  table_properties={\n",
    "    \"delta.autoOptimize.optimizeWrite\": \"true\",\n",
    "    \"delta.autoOptimize.autoCompact\": \"true\",\n",
    "    \"dlt.applyChanges\": \"true\"\n",
    "  }\n",
    ")\n",
    "def customers():\n",
    "  return (\n",
    "    spark.readStream.format(\"cloudFiles\")\n",
    "    .option(\"cloudFiles.format\", \"csv\")\n",
    "    .load(\"/Volumes/ecommerce/bronze/files/bronze/customers/\")\n",
    "  )"
   ]
  },
  {
   "cell_type": "code",
   "execution_count": 0,
   "metadata": {
    "application/vnd.databricks.v1+cell": {
     "cellMetadata": {},
     "inputWidgets": {},
     "nuid": "cc97d6f2-1805-460a-bec4-ced0a09acd1b",
     "showTitle": true,
     "tableResultSettingsMap": {},
     "title": "Products Bronze"
    }
   },
   "outputs": [],
   "source": [
    "@dlt.table\n",
    "def products():\n",
    "  return (\n",
    "    spark.readStream.format(\"cloudFiles\")\n",
    "    .option(\"cloudFiles.format\", \"csv\")\n",
    "    .load(\"/Volumes/ecommerce/bronze/files/bronze/products/\")\n",
    "  )"
   ]
  },
  {
   "cell_type": "code",
   "execution_count": 0,
   "metadata": {
    "application/vnd.databricks.v1+cell": {
     "cellMetadata": {},
     "inputWidgets": {},
     "nuid": "a0fe218f-39d5-4b66-b278-00105fedaf91",
     "showTitle": true,
     "tableResultSettingsMap": {},
     "title": "Sellers Bronze"
    }
   },
   "outputs": [],
   "source": [
    "@dlt.table\n",
    "def sellers():\n",
    "  return (\n",
    "    spark.readStream.format(\"cloudFiles\")\n",
    "    .option(\"cloudFiles.format\", \"csv\")\n",
    "    .load(\"/Volumes/ecommerce/bronze/files/bronze/sellers/\")\n",
    "  )"
   ]
  },
  {
   "cell_type": "code",
   "execution_count": 0,
   "metadata": {
    "application/vnd.databricks.v1+cell": {
     "cellMetadata": {},
     "inputWidgets": {},
     "nuid": "b42f75d1-5629-418e-8706-8e07ba4df5f3",
     "showTitle": true,
     "tableResultSettingsMap": {},
     "title": "Orders Bronze"
    }
   },
   "outputs": [],
   "source": [
    "@dlt.table\n",
    "def orders():\n",
    "  return (\n",
    "    spark.readStream.format(\"cloudFiles\")\n",
    "    .option(\"cloudFiles.format\", \"csv\")\n",
    "    .load(\"/Volumes/tutorial/dlt/arquivos/orders/\")\n",
    "  )"
   ]
  },
  {
   "cell_type": "code",
   "execution_count": 0,
   "metadata": {
    "application/vnd.databricks.v1+cell": {
     "cellMetadata": {},
     "inputWidgets": {},
     "nuid": "f8cf85ec-5439-492e-a2ed-0bc06f1d3f86",
     "showTitle": true,
     "tableResultSettingsMap": {},
     "title": "Oders_Items Bronze"
    }
   },
   "outputs": [],
   "source": [
    "@dlt.table\n",
    "def orders_items():\n",
    "  return (\n",
    "    spark.readStream.format(\"cloudFiles\")\n",
    "    .option(\"cloudFiles.format\", \"csv\")\n",
    "    .load(\"/Volumes/tutorial/dlt/arquivos/order_items/\")\n",
    "  )"
   ]
  },
  {
   "cell_type": "code",
   "execution_count": 0,
   "metadata": {
    "application/vnd.databricks.v1+cell": {
     "cellMetadata": {},
     "inputWidgets": {},
     "nuid": "ecceb307-2a9e-4894-aab5-9b5f6efaf6c4",
     "showTitle": true,
     "tableResultSettingsMap": {},
     "title": "Orders_Payment Bronze"
    }
   },
   "outputs": [],
   "source": [
    "@dlt.table\n",
    "def order_payments():\n",
    "  return (\n",
    "    spark.readStream.format(\"cloudFiles\")\n",
    "    .option(\"cloudFiles.format\", \"csv\")\n",
    "    .load(\"/Volumes/tutorial/dlt/arquivos/order_payments/\")\n",
    "  )"
   ]
  },
  {
   "cell_type": "code",
   "execution_count": 0,
   "metadata": {
    "application/vnd.databricks.v1+cell": {
     "cellMetadata": {},
     "inputWidgets": {},
     "nuid": "20425c2d-f6df-49b7-9d5d-99cc7932d8d5",
     "showTitle": true,
     "tableResultSettingsMap": {},
     "title": "Oders_reviews Bronze"
    }
   },
   "outputs": [],
   "source": [
    "@dlt.table\n",
    "def order_reviews():\n",
    "  return (\n",
    "    spark.readStream.format(\"cloudFiles\")\n",
    "    .option(\"cloudFiles.format\", \"csv\")\n",
    "    .load(\"/Volumes/tutorial/dlt/arquivos/order_reviews/\")\n",
    "  )"
   ]
  },
  {
   "cell_type": "code",
   "execution_count": 0,
   "metadata": {
    "application/vnd.databricks.v1+cell": {
     "cellMetadata": {},
     "inputWidgets": {},
     "nuid": "aec014a4-6cb2-41ab-9c59-227cf320ba95",
     "showTitle": true,
     "tableResultSettingsMap": {},
     "title": "Geolocation Bronze"
    }
   },
   "outputs": [],
   "source": [
    "@dlt.table\n",
    "def geolocation():\n",
    "  return (\n",
    "    spark.readStream.format(\"cloudFiles\")\n",
    "    .option(\"cloudFiles.format\", \"csv\")\n",
    "    .load(\"/Volumes/tutorial/dlt/arquivos/geolocation/\")\n",
    "  )"
   ]
  },
  {
   "cell_type": "code",
   "execution_count": 0,
   "metadata": {
    "application/vnd.databricks.v1+cell": {
     "cellMetadata": {
      "byteLimit": 2048000,
      "rowLimit": 10000
     },
     "inputWidgets": {},
     "nuid": "5616ef88-c8be-4af3-8910-d12c165733de",
     "showTitle": true,
     "tableResultSettingsMap": {},
     "title": "Create tables in the catalog"
    }
   },
   "outputs": [],
   "source": [
    "import dlt\n",
    "from pyspark.sql.functions import *\n",
    "from pyspark.sql.window import Window\n",
    "\n",
    "@dlt.table\n",
    "def customer_bronze():\n",
    "  return (dlt\n",
    "          .read_stream(\"customers\")\n",
    "          .select(col(\"customer_id\"),\n",
    "                  col(\"customer_unique_id\"),  \n",
    "                  col(\"customer_zip_code_prefix\"), \n",
    "                  col(\"customer_city\"), \n",
    "                  col(\"customer_state\"))\n",
    "          .withColumn(\"DataRawLoad\", current_timestamp())\n",
    "          )\n",
    "\n",
    "@dlt.table\n",
    "def products_bronze():\n",
    "  return (dlt\n",
    "          .read_stream(\"products\")\n",
    "          .withColumn(\"DataRawLoad\", current_timestamp())\n",
    "          )\n",
    "  \n",
    "@dlt.table\n",
    "def sellers_bronze():\n",
    "  return (dlt\n",
    "          .read_stream(\"sellers\")\n",
    "          .withColumn(\"DataRawLoad\", current_timestamp())\n",
    "          )\n",
    "\n",
    "@dlt.table\n",
    "def orders_bronze():\n",
    "  return (dlt\n",
    "          .read_stream(\"orders\")\n",
    "          .withColumn(\"DataRawLoad\", current_timestamp())\n",
    "          )\n",
    "  \n",
    "@dlt.table\n",
    "def orders_items_bronze():\n",
    "  return (dlt\n",
    "          .read_stream(\"orders_items\")\n",
    "          .withColumn(\"DataRawLoad\", current_timestamp())\n",
    "          )\n",
    "  \n",
    "@dlt.table\n",
    "def orders_payments_bronze():\n",
    "  return (dlt\n",
    "          .read_stream(\"order_payments\")\n",
    "          .withColumn(\"DataRawLoad\", current_timestamp())\n",
    "          )\n",
    "  \n",
    "@dlt.table\n",
    "def orders_reviews_bronze():\n",
    "  return (dlt\n",
    "          .read_stream(\"order_reviews\")\n",
    "          .withColumn(\"DataRawLoad\", current_timestamp())\n",
    "          )\n",
    "  \n",
    "@dlt.table\n",
    "def geolocation_bronze():\n",
    "  return (dlt\n",
    "          .read_stream(\"geolocation\")\n",
    "          .withColumn(\"DataRawLoad\", current_timestamp())\n",
    "          )"
   ]
  },
  {
   "cell_type": "markdown",
   "metadata": {
    "application/vnd.databricks.v1+cell": {
     "cellMetadata": {},
     "inputWidgets": {},
     "nuid": "21059759-03a0-4455-bb85-bd72f44745c2",
     "showTitle": false,
     "tableResultSettingsMap": {},
     "title": ""
    }
   },
   "source": [
    "## Ingest Silver Tables"
   ]
  },
  {
   "cell_type": "code",
   "execution_count": 0,
   "metadata": {
    "application/vnd.databricks.v1+cell": {
     "cellMetadata": {},
     "inputWidgets": {},
     "nuid": "d67f24d1-9cf5-4ba8-bc14-cb2cb13c9203",
     "showTitle": true,
     "tableResultSettingsMap": {},
     "title": "Customer Silver"
    }
   },
   "outputs": [],
   "source": [
    "import dlt\n",
    "from pyspark.sql.functions import *\n",
    "from pyspark.sql.functions import col\n",
    "\n",
    "\n",
    "@dlt.table\n",
    "@dlt.expect_or_drop(\"customer_id\", \"customer_id IS NOT NULL\")\n",
    "def customer_silver():\n",
    "    return dlt.readStream(\"customer_bronze\").select(\n",
    "        col(\"customer_id\"),\n",
    "        col(\"customer_unique_id\"),\n",
    "        col(\"customer_zip_code_prefix\"),\n",
    "        col(\"customer_city\"),\n",
    "        col(\"customer_state\"),\n",
    "        col(\"DataRawLoad\").cast(\"timestamp\")\n",
    "    )"
   ]
  },
  {
   "cell_type": "code",
   "execution_count": 0,
   "metadata": {
    "application/vnd.databricks.v1+cell": {
     "cellMetadata": {},
     "inputWidgets": {},
     "nuid": "4e6a3fc7-639b-4b8f-b151-fc85863448de",
     "showTitle": true,
     "tableResultSettingsMap": {},
     "title": "Geolocation Silver"
    }
   },
   "outputs": [],
   "source": [
    "@dlt.table\n",
    "def geolocation_silver():\n",
    "    return dlt.readStream(\"geolocation_bronze\").select(\n",
    "        col(\"geolocation_zip_code_prefix\"),\n",
    "        col(\"geolocation_lat\"),\n",
    "        col(\"geolocation_lng\"),\n",
    "        col(\"geolocation_city\"),\n",
    "        col(\"geolocation_state\"),\n",
    "        col(\"DataRawLoad\").cast(\"timestamp\")\n",
    "    )"
   ]
  },
  {
   "cell_type": "code",
   "execution_count": 0,
   "metadata": {
    "application/vnd.databricks.v1+cell": {
     "cellMetadata": {},
     "inputWidgets": {},
     "nuid": "23a41e2e-3e28-4e33-a979-f24f04224d2b",
     "showTitle": true,
     "tableResultSettingsMap": {},
     "title": "Order_items Silver"
    }
   },
   "outputs": [],
   "source": [
    "@dlt.table\n",
    "def orders_items_silver():\n",
    "    return dlt.readStream(\"orders_items_bronze\").select(\n",
    "        col(\"order_id\"),\n",
    "        col(\"order_item_id\"),\n",
    "        col(\"product_id\"),\n",
    "        col(\"seller_id\"),\n",
    "        col(\"shipping_limit_date\"),\n",
    "        col(\"price\"),\n",
    "        col(\"freight_value\"),\n",
    "        col(\"DataRawLoad\").cast(\"timestamp\")\n",
    "    )"
   ]
  },
  {
   "cell_type": "code",
   "execution_count": 0,
   "metadata": {
    "application/vnd.databricks.v1+cell": {
     "cellMetadata": {},
     "inputWidgets": {},
     "nuid": "c550306e-acd0-4200-9b3b-fa2992e47f79",
     "showTitle": true,
     "tableResultSettingsMap": {},
     "title": "Order_payments Silver"
    }
   },
   "outputs": [],
   "source": [
    "@dlt.table\n",
    "def orders_payments_silver():\n",
    "    return dlt.readStream(\"orders_payments_bronze\").select(\n",
    "        col(\"order_id\"),\n",
    "        col(\"payment_sequential\"),\n",
    "        col(\"payment_type\"),\n",
    "        col(\"payment_value\"),\n",
    "        col(\"DataRawLoad\").cast(\"timestamp\")\n",
    "    )"
   ]
  },
  {
   "cell_type": "code",
   "execution_count": 0,
   "metadata": {
    "application/vnd.databricks.v1+cell": {
     "cellMetadata": {},
     "inputWidgets": {},
     "nuid": "806dcad5-ded9-4ccf-9b7c-32e5d04623e9",
     "showTitle": true,
     "tableResultSettingsMap": {},
     "title": "Oder_reviews Silver"
    }
   },
   "outputs": [],
   "source": [
    "@dlt.table\n",
    "def order_reviews_silver():\n",
    "    return dlt.readStream(\"orders_reviews_bronze\").select(\n",
    "        col(\"review_id\"),\n",
    "        col(\"order_id\"),\n",
    "        col(\"review_score\"),\n",
    "        col(\"review_comment_title\"),\n",
    "        col(\"review_comment_message\"),\n",
    "        col(\"review_creation_date\"),\n",
    "        col(\"review_answer_timestamp\"),\n",
    "        col(\"DataRawLoad\").cast(\"timestamp\")\n",
    "    )"
   ]
  },
  {
   "cell_type": "code",
   "execution_count": 0,
   "metadata": {
    "application/vnd.databricks.v1+cell": {
     "cellMetadata": {},
     "inputWidgets": {},
     "nuid": "ad1d72ac-0e99-4c17-85cb-14298726d75b",
     "showTitle": true,
     "tableResultSettingsMap": {},
     "title": "Orders Silver"
    }
   },
   "outputs": [],
   "source": [
    "@dlt.table\n",
    "@dlt.expect_or_drop(\"order_id\", \"order_id IS NOT NULL\")\n",
    "def orders_silver():\n",
    "    return dlt.readStream(\"orders_bronze\").select(\n",
    "        col(\"order_id\"),\n",
    "        col(\"customer_id\"),\n",
    "        col(\"order_status\"),\n",
    "        col(\"order_purchase_timestamp\"),\n",
    "        col(\"order_approved_at\"),\n",
    "        col(\"order_delivered_carrier_date\"),\n",
    "        col(\"order_delivered_customer_date\"),\n",
    "        col(\"order_estimated_delivery_date\"),\n",
    "        col(\"DataRawLoad\").cast(\"timestamp\")\n",
    "    )"
   ]
  },
  {
   "cell_type": "code",
   "execution_count": 0,
   "metadata": {
    "application/vnd.databricks.v1+cell": {
     "cellMetadata": {},
     "inputWidgets": {},
     "nuid": "8fd9d784-9405-4655-aef9-e9c67136dfba",
     "showTitle": true,
     "tableResultSettingsMap": {},
     "title": "Products Silver"
    }
   },
   "outputs": [],
   "source": [
    "@dlt.table\n",
    "def products_silver():\n",
    "    return dlt.readStream(\"products_bronze\").select(\n",
    "        col(\"product_id\"),\n",
    "        col(\"product_category_name\"),\n",
    "        col(\"product_name_lenght\"),\n",
    "        col(\"product_description_lenght\"),\n",
    "        col(\"product_photos_qty\"),\n",
    "        col(\"product_weight_g\"),\n",
    "        col(\"product_length_cm\"),\n",
    "        col(\"product_height_cm\"),\n",
    "        col(\"product_width_cm\"),\n",
    "        col(\"DataRawLoad\").cast(\"timestamp\")\n",
    "    )"
   ]
  },
  {
   "cell_type": "code",
   "execution_count": 0,
   "metadata": {
    "application/vnd.databricks.v1+cell": {
     "cellMetadata": {},
     "inputWidgets": {},
     "nuid": "5ffcf1fc-b6de-49f3-9923-0c7c51500bbe",
     "showTitle": true,
     "tableResultSettingsMap": {},
     "title": "Sellers Silver"
    }
   },
   "outputs": [],
   "source": [
    "@dlt.table\n",
    "@dlt.expect_or_drop(\"seller_id\", \"seller_id IS NOT NULL\")\n",
    "def sellers_silver():\n",
    "    return dlt.readStream(\"sellers_bronze\").select(\n",
    "        col(\"seller_id\"),\n",
    "        col(\"seller_zip_code_prefix\"),\n",
    "        col(\"seller_city\"),\n",
    "        col(\"seller_state\"),\n",
    "        col(\"DataRawLoad\").cast(\"timestamp\")\n",
    "    )"
   ]
  },
  {
   "cell_type": "markdown",
   "metadata": {
    "application/vnd.databricks.v1+cell": {
     "cellMetadata": {},
     "inputWidgets": {},
     "nuid": "3f0b8e6d-11e7-432e-824b-c003c1f04af7",
     "showTitle": false,
     "tableResultSettingsMap": {},
     "title": ""
    }
   },
   "source": [
    "## Gold - Aggregated"
   ]
  },
  {
   "cell_type": "code",
   "execution_count": 0,
   "metadata": {
    "application/vnd.databricks.v1+cell": {
     "cellMetadata": {},
     "inputWidgets": {},
     "nuid": "ccfd0db4-54c0-4de4-96fb-2f74aeb8bcc1",
     "showTitle": false,
     "tableResultSettingsMap": {},
     "title": ""
    }
   },
   "outputs": [],
   "source": [
    "import dlt\n",
    "from pyspark.sql.functions import when, datediff\n",
    "\n",
    "@dlt.table(\n",
    "  name=\"sales\",\n",
    "  comment=\"Criando a camada Gold, gerando uma tabela juntando todos os dados\",\n",
    "  partition_cols=[\"estadoCliente\"]\n",
    ")\n",
    "def sales():\n",
    "  orders = dlt.read(\"orders\")\n",
    "  order_payments = dlt.read(\"order_payments\")\n",
    "  order_reviews = dlt.read(\"order_reviews\")\n",
    "  customers = dlt.read(\"customers\")\n",
    "  \n",
    "  return (\n",
    "    orders\n",
    "    .join(order_payments, orders.order_id == order_payments.order_id, \"left\")\n",
    "    .join(order_reviews, orders.order_id == order_reviews.order_id, \"left\")\n",
    "    .join(customers, orders.customer_id == customers.customer_id, \"left\")\n",
    "    .select(\n",
    "      when(orders.order_status == 'shipped', 'enviado')\n",
    "      .when(orders.order_status == 'canceled', 'cancelado')\n",
    "      .when(orders.order_status == 'invoiced', 'faturado')\n",
    "      .when(orders.order_status == 'created', 'criado')\n",
    "      .when(orders.order_status == 'delivered', 'entregue')\n",
    "      .when(orders.order_status == 'unavailable', 'indisponível')\n",
    "      .when(orders.order_status == 'processing', 'em processamento')\n",
    "      .when(orders.order_status == 'approved', 'aprovado')\n",
    "      .alias(\"statusDoPedido\"),\n",
    "      orders.order_purchase_timestamp.alias(\"horaCompraPedido\"),\n",
    "      orders.order_approved_at.alias(\"horaPedidoAprovado\"),\n",
    "      orders.order_estimated_delivery_date.alias(\"dataEstimadaEntrega\"),\n",
    "      datediff(orders.order_estimated_delivery_date, orders.order_approved_at).alias(\"dataEntregaEmDias\"),\n",
    "      order_reviews.review_score.alias(\"notaProduto\"),\n",
    "      order_reviews.review_answer_timestamp.alias(\"dataComentarioSobreProduto\"),\n",
    "      when(order_payments.payment_type == 'credit_card', 'cartao_de_credito')\n",
    "      .when(order_payments.payment_type == 'boleto', 'boleto')\n",
    "      .when(order_payments.payment_type == 'not_defined', 'não_definido')\n",
    "      .when(order_payments.payment_type == 'voucher', 'voucher')\n",
    "      .when(order_payments.payment_type == 'debit_card', 'cartao_de_debito')\n",
    "      .alias(\"meioDePagamento\"),\n",
    "      order_payments.payment_installments.alias(\"parcelamento\"),\n",
    "      order_payments.payment_value.alias(\"valorPago\"),\n",
    "      customers.customer_city.alias(\"cidadeCliente\"),\n",
    "      customers.customer_state.alias(\"estadoCliente\")\n",
    "    )\n",
    "  )"
   ]
  }
 ],
 "metadata": {
  "application/vnd.databricks.v1+notebook": {
   "dashboards": [],
   "environmentMetadata": {
    "base_environment": "",
    "client": "1"
   },
   "language": "python",
   "notebookMetadata": {
    "pythonIndentUnit": 2
   },
   "notebookName": "Ingest ecommerce",
   "widgets": {}
  },
  "language_info": {
   "name": "python"
  }
 },
 "nbformat": 4,
 "nbformat_minor": 0
}
